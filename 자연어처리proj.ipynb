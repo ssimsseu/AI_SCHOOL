{
  "nbformat": 4,
  "nbformat_minor": 0,
  "metadata": {
    "colab": {
      "name": "Untitled2.ipynb",
      "provenance": [],
      "authorship_tag": "ABX9TyNxuzo9b4/1BqSmBeqz1aYy",
      "include_colab_link": true
    },
    "kernelspec": {
      "name": "python3",
      "display_name": "Python 3"
    }
  },
  "cells": [
    {
      "cell_type": "markdown",
      "metadata": {
        "id": "view-in-github",
        "colab_type": "text"
      },
      "source": [
        "<a href=\"https://colab.research.google.com/github/ssimsseu/AI_SCHOOL/blob/master/%EC%9E%90%EC%97%B0%EC%96%B4%EC%B2%98%EB%A6%ACproj.ipynb\" target=\"_parent\"><img src=\"https://colab.research.google.com/assets/colab-badge.svg\" alt=\"Open In Colab\"/></a>"
      ]
    },
    {
      "cell_type": "code",
      "metadata": {
        "id": "dTEMr7DwuvmL",
        "colab_type": "code",
        "colab": {
          "base_uri": "https://localhost:8080/",
          "height": 239
        },
        "outputId": "a9bb9a73-d194-49b6-d443-d9c05b381e7a"
      },
      "source": [
        "#19 recommand 시간에 배운거\n",
        "#movies = pd.read_csv(r'./movies.csv')\n",
        "\n",
        "import pandas as pd\n",
        "import numpy as np\n",
        "from ast import literal_eval\n",
        "\n",
        "f = open(r'movies.csv', 'r', encoding='utf-8')\n",
        "csvreader = csv.reader(f)\n",
        "#movies={}\n",
        "\n",
        "movies_title=[]\n",
        "movies_score=[]\n",
        "movies_genre=[]\n",
        "\n",
        "# 첫줄은 헤더라서 스킵\n",
        "next(csvreader)\n",
        "for line in csvreader:\n",
        "    if line != []:\n",
        "#         movies['title']= line[1]\n",
        "#         movies['score']= line[len(line)-2]\n",
        "#         movies['genre']= line[len(line)-1]\n",
        "        movies_title.append(line[1])\n",
        "        movies_score.append(line[len(line)-2])\n",
        "        movies_genre.append(line[len(line)-1])\n",
        "    \n",
        "#movies = movies.loc[:, ['title', 'genres', 'keywords']]\n",
        "print(movies_genre[0])\n",
        "\n",
        "# # 문자열 -> 딕셔너리 형태로 변환\n",
        "\n",
        "\n",
        "# [장르, 장르, 장르, 장르] -> 장르 장르 장르 장르\n",
        "# movies_genre = eval(movies_genre)\n",
        "# movies_score = eval(movies_score)\n",
        "# movies_title = eval(movies_title)\n",
        "\n",
        "movies_genre = ' '.join(movies_genre)\n",
        "movies_score = ' '.join(movies_score)\n",
        "movies_title = ' '.join(movies_title)\n",
        "\n",
        "#print(movies_genre)\n",
        "print(type(movies_genre))   \n",
        "\n",
        "\n",
        "# # i = 0\n",
        "# # for row in movies['genres']:\n",
        "# #     genres = []\n",
        "# #     for ele in row:\n",
        "# #         genres.append(ele['name'])\n",
        "# #     movies['genres'][i] = genres\n",
        "# #     i = i + 1\n",
        "\n",
        "# print(movies)\n",
        "\n",
        "\n",
        "\n",
        "from sklearn.feature_extraction.text import TfidfVectorizer\n",
        "# ngram_range=(1, 2) 는 단어를 1개 혹은 2개 연속으로 보겠다\n",
        "tfidf_vec = TfidfVectorizer(ngram_range=(1, 2))\n",
        "tfidf_matrix = tfidf_vec.fit_transform(movies_title)\n",
        "print(tfidf_vec.vocabulary_.items())\n",
        "# 4803은 영화의 개수, 276은 단어의 개수 -> 하나의 영화를 276개 열을 가진 벡터로 표현\n",
        "print(tfidf_matrix.shape)\n",
        "\n",
        "# action adventure fantasy\n",
        "# adventure fantasy\n",
        "# adventure\n",
        "# fantasy\n"
      ],
      "execution_count": 1,
      "outputs": [
        {
          "output_type": "error",
          "ename": "FileNotFoundError",
          "evalue": "ignored",
          "traceback": [
            "\u001b[0;31m---------------------------------------------------------------------------\u001b[0m",
            "\u001b[0;31mFileNotFoundError\u001b[0m                         Traceback (most recent call last)",
            "\u001b[0;32m<ipython-input-1-3ffdffb5a106>\u001b[0m in \u001b[0;36m<module>\u001b[0;34m()\u001b[0m\n\u001b[1;32m      6\u001b[0m \u001b[0;32mfrom\u001b[0m \u001b[0mast\u001b[0m \u001b[0;32mimport\u001b[0m \u001b[0mliteral_eval\u001b[0m\u001b[0;34m\u001b[0m\u001b[0;34m\u001b[0m\u001b[0m\n\u001b[1;32m      7\u001b[0m \u001b[0;34m\u001b[0m\u001b[0m\n\u001b[0;32m----> 8\u001b[0;31m \u001b[0mf\u001b[0m \u001b[0;34m=\u001b[0m \u001b[0mopen\u001b[0m\u001b[0;34m(\u001b[0m\u001b[0;34mr'movies.csv'\u001b[0m\u001b[0;34m,\u001b[0m \u001b[0;34m'r'\u001b[0m\u001b[0;34m,\u001b[0m \u001b[0mencoding\u001b[0m\u001b[0;34m=\u001b[0m\u001b[0;34m'utf-8'\u001b[0m\u001b[0;34m)\u001b[0m\u001b[0;34m\u001b[0m\u001b[0;34m\u001b[0m\u001b[0m\n\u001b[0m\u001b[1;32m      9\u001b[0m \u001b[0mcsvreader\u001b[0m \u001b[0;34m=\u001b[0m \u001b[0mcsv\u001b[0m\u001b[0;34m.\u001b[0m\u001b[0mreader\u001b[0m\u001b[0;34m(\u001b[0m\u001b[0mf\u001b[0m\u001b[0;34m)\u001b[0m\u001b[0;34m\u001b[0m\u001b[0;34m\u001b[0m\u001b[0m\n\u001b[1;32m     10\u001b[0m \u001b[0;31m#movies={}\u001b[0m\u001b[0;34m\u001b[0m\u001b[0;34m\u001b[0m\u001b[0;34m\u001b[0m\u001b[0m\n",
            "\u001b[0;31mFileNotFoundError\u001b[0m: [Errno 2] No such file or directory: 'movies.csv'"
          ]
        }
      ]
    }
  ]
}