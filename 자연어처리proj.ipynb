{
  "nbformat": 4,
  "nbformat_minor": 0,
  "metadata": {
    "colab": {
      "name": "Untitled2.ipynb",
      "provenance": [],
      "authorship_tag": "ABX9TyP/EjnTrcuDvqE7TXOPqeg+",
      "include_colab_link": true
    },
    "kernelspec": {
      "name": "python3",
      "display_name": "Python 3"
    }
  },
  "cells": [
    {
      "cell_type": "markdown",
      "metadata": {
        "id": "view-in-github",
        "colab_type": "text"
      },
      "source": [
        "<a href=\"https://colab.research.google.com/github/ssimsseu/AI_SCHOOL/blob/master/%EC%9E%90%EC%97%B0%EC%96%B4%EC%B2%98%EB%A6%ACproj.ipynb\" target=\"_parent\"><img src=\"https://colab.research.google.com/assets/colab-badge.svg\" alt=\"Open In Colab\"/></a>"
      ]
    },
    {
      "cell_type": "code",
      "metadata": {
        "id": "OVBmibgf5qF1",
        "colab_type": "code",
        "colab": {
          "base_uri": "https://localhost:8080/",
          "height": 34
        },
        "outputId": "e7510182-6cfb-4a5f-e225-d4ad5909f16c"
      },
      "source": [
        "a= [1,2,3,4,5]\n",
        "a.index(2)"
      ],
      "execution_count": 14,
      "outputs": [
        {
          "output_type": "execute_result",
          "data": {
            "text/plain": [
              "1"
            ]
          },
          "metadata": {
            "tags": []
          },
          "execution_count": 14
        }
      ]
    },
    {
      "cell_type": "code",
      "metadata": {
        "id": "mPXV5Ea_7xUY",
        "colab_type": "code",
        "colab": {}
      },
      "source": [
        ""
      ],
      "execution_count": null,
      "outputs": []
    },
    {
      "cell_type": "code",
      "metadata": {
        "id": "dTEMr7DwuvmL",
        "colab_type": "code",
        "colab": {}
      },
      "source": [
        "#19 recommand 시간에 배운거\n",
        "#movies = pd.read_csv(r'./movies.csv')\n",
        "\n",
        "import pandas as pd\n",
        "import numpy as np\n",
        "from ast import literal_eval\n",
        "import csv\n",
        "\n",
        "f = open(r'movies.csv', 'r', encoding='utf-8')\n",
        "csvreader = csv.reader(f)\n",
        "#movies={}\n",
        "\n",
        "movies_title=[]\n",
        "movies_score=[]\n",
        "movies_genre=[]\n",
        "\n",
        "# 첫줄은 헤더라서 스킵\n",
        "next(csvreader)\n",
        "for line in csvreader:\n",
        "    if line != []:\n",
        "#         movies['title']= line[1]\n",
        "#         movies['score']= line[len(line)-2]\n",
        "#         movies['genre']= line[len(line)-1]\n",
        "        movies_title.append(line[1])\n",
        "        movies_score.append(line[len(line)-2])\n",
        "        movies_genre.append(line[len(line)-1])\n",
        "    \n",
        "#movies = movies.loc[:, ['title', 'genres', 'keywords']]\n",
        "print(movies_genre[0])\n",
        "\n",
        "# # 문자열 -> 딕셔너리 형태로 변환\n",
        "\n",
        "\n",
        "# [장르, 장르, 장르, 장르] -> 장르 장르 장르 장르\n",
        "\n",
        "\n",
        "#print(movies_genre)\n",
        "print(type(movies_genre))   \n",
        "\n",
        "\n",
        "# # i = 0\n",
        "# # for row in movies['genres']:\n",
        "# #     genres = []\n",
        "# #     for ele in row:\n",
        "# #         genres.append(ele['name'])\n",
        "# #     movies['genres'][i] = genres\n",
        "# #     i = i + 1\n",
        "\n",
        "# print(movies)\n",
        "\n",
        "\n",
        "\n",
        "from sklearn.feature_extraction.text import TfidfVectorizer\n",
        "# ngram_range=(1, 2) 는 단어를 1개 혹은 2개 연속으로 보겠다\n",
        "tfidf_vec = TfidfVectorizer(ngram_range=(1, 2))\n",
        "tfidf_matrix = tfidf_vec.fit_transform(movies_title)\n",
        "print(tfidf_vec.vocabulary_.items())\n",
        "# 4803은 영화의 개수, 276은 단어의 개수 -> 하나의 영화를 276개 열을 가진 벡터로 표현\n",
        "print(tfidf_matrix.shape)\n",
        "\n",
        "# action adventure fantasy\n",
        "# adventure fantasy\n",
        "# adventure\n",
        "# fantasy\n",
        "\n",
        "\n",
        "from sklearn.metrics.pairwise import cosine_similarity\n",
        "\n",
        "# 4803개의 영화랑 4803개의 영화끼리 유사도를 구하겠다!\n",
        "# 자신과의 유사도는 1\n",
        "genres_similarity = cosine_similarity(tfidf_matrix, tfidf_matrix)\n",
        "print(genres_similarity)\n",
        "# 유사도 값이 높은 영화의 제목\n",
        "# 유사도 값이 높은 순으로 인덱스 값을 뽑아낸다\n",
        "similar_index = np.argsort(-genres_similarity)\n",
        "print(similar_index)\n",
        "\n",
        "\n",
        "from sklearn.feature_extraction.text import CountVectorizer\n",
        "count_vec = CountVectorizer(ngram_range=(1, 2))\n",
        "count_matrix = count_vec.fit_transform(movies_title)\n",
        "print(count_matrix)\n",
        "\n",
        "\n",
        "from sklearn.metrics.pairwise import cosine_similarity\n",
        "\n",
        "# 4803개의 영화랑 4803개의 영화끼리 유사도를 구하겠다!\n",
        "genres_similarity = cosine_similarity(count_matrix, count_matrix)\n",
        "print(genres_similarity)\n",
        "# 유사도가 높은 영화를 알고 싶다!\n",
        "# 유사도 값이 높은 것의 인덱스를 내림차순으로 출력/리턴\n",
        "similar_index = np.argsort(-genres_similarity)\n",
        "print(similar_index)\n",
        "\n",
        "\n",
        "\n"
      ],
      "execution_count": null,
      "outputs": []
    },
    {
      "cell_type": "code",
      "metadata": {
        "id": "7boYKhIt7-A0",
        "colab_type": "code",
        "colab": {
          "base_uri": "https://localhost:8080/",
          "height": 263
        },
        "outputId": "59bbaee1-9f63-450d-b400-f774885f6eee"
      },
      "source": [
        "input_movie = input()\n",
        "\n",
        "movie_index = movies_title.index(input_movie)\n",
        "print(movie_index)\n",
        "similar_movies = similar_index[movie_index, :10]\n",
        "print(similar_movies)\n",
        "# 인덱스로 사용하기 위해서는 1차원으로 변형해줘야하기 때문\n",
        "similar_movies_index = similar_movies.reshape(-1)\n",
        "print(similar_movies_index)\n",
        "#print(movies.iloc[similar_movies_index])\n",
        "\n",
        "for i in similar_movies_index:\n",
        "  print(movies_title[i],\"/\", movies_genre[i],\"/\" f\" 평점:{movies_score[i]}\")\n",
        "\n"
      ],
      "execution_count": 31,
      "outputs": [
        {
          "output_type": "stream",
          "text": [
            "증인\n",
            "2\n",
            "[   2 5588 2351    0 7399 7400 7401 7402 7403 7404]\n",
            "[   2 5588 2351    0 7399 7400 7401 7402 7403 7404]\n",
            "증인 / 드라마 / 평점:9.09\n",
            "검찰 측 증인 디 오리지널 / 드라마 / 평점:9.14\n",
            "막달라 마리아: 부활의 증인 / 드라마 / 평점:6.95\n",
            "너의 이름은. / 드라마 / 평점:8.78\n",
            "유령 작가 / 드라마 / 평점:7.09\n",
            "베스트셀러 / 공포/스릴러 / 평점:7.61\n",
            "작은 빛 / 드라마 / 평점:7.27\n",
            "제멋대로 떨고 있어 / 코미디 / 평점:7.18\n",
            "블루 / 액션 / 평점:7.29\n",
            "윈체스터 / 공포/스릴러 / 평점:6.62\n"
          ],
          "name": "stdout"
        }
      ]
    },
    {
      "cell_type": "code",
      "metadata": {
        "id": "rUEIIDPs8Vy_",
        "colab_type": "code",
        "colab": {
          "base_uri": "https://localhost:8080/",
          "height": 34
        },
        "outputId": "e06dcba0-cee4-4269-a245-10986144a750"
      },
      "source": [
        "a=[1,2,3,4,5,2]\n",
        "a.index(2)"
      ],
      "execution_count": 17,
      "outputs": [
        {
          "output_type": "execute_result",
          "data": {
            "text/plain": [
              "1"
            ]
          },
          "metadata": {
            "tags": []
          },
          "execution_count": 17
        }
      ]
    }
  ]
}