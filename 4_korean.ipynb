{
 "metadata": {
  "language_info": {
   "codemirror_mode": {
    "name": "ipython",
    "version": 3
   },
   "file_extension": ".py",
   "mimetype": "text/x-python",
   "name": "python",
   "nbconvert_exporter": "python",
   "pygments_lexer": "ipython3",
   "version": 3
  },
  "orig_nbformat": 2
 },
 "nbformat": 4,
 "nbformat_minor": 2,
 "cells": [
  {
   "cell_type": "code",
   "execution_count": null,
   "metadata": {},
   "outputs": [],
   "source": [
    "!pip install konlpy\n",
    "\n",
    "# 토큰화를 위한 모듈\n",
    "from konlpy.tag import Okt  \n",
    "# 빈도수 딕셔너리를 만들기 위한 모듈\n",
    "from collections import Counter\n",
    "# 워드클라우드\n",
    "from wordcloud import WordCloud\n",
    "import matplotlib.pyplot as plt\n",
    "\n",
    "\n",
    "ktext = '''\n",
    "어벤저스 엔드 게임 뒷이야기라는 점을 신경 쓰느라\n",
    "정작 `피터 파커` 스파이더맨의 이야기는 제대로 설명하지 못한 아쉬운 영화네요.\n",
    "그리고 웃긴 점은 이 스파이더맨 전 편 `스파이더맨 홈커밍`만 보고 온 관객이라면,\n",
    "모를 수밖에 없는 인물들이 등장하고, 스토리도 이해가 안 될 수 있어요.\n",
    "이 영화를 보려면 전 편은 당연히 봐야 하는 거고, 어벤저스 엔드게임부터, 아이언 맨까지\n",
    "하 아~ 마블 영화 피로도 극에 달한다.\n",
    "이제 마블도 손절할 때인가?\n",
    "그래도 마블 캐릭터 중에 저의 최고 애정 캐릭터인 스파이더맨인데\n",
    "이번 영화는 온통 아이언맨 오마주로 점철돼버려서,\n",
    "이게 스파이더맨인지 아이언맨 주니어인지 헷갈릴 정도입니다.\n",
    "악당조차 반 아이언맨 연합(?) 구성이라니.;;\n",
    "이런 식으로 흘러가다 보니 주인공이어야 할 스파이더맨의 스토리가 너무도 빈약합니다.\n",
    "mj한테 어찌 사랑의 감정을 느꼈는지 영화에서 설명을 안 해줘요.\n",
    "그냥 `여행 가서 고백을 해야지`... 이러면서 얼렁뚱땅 넘어가요.\n",
    "스파이더맨이 악당한테 당하고 좌절했을 때\n",
    "그를 각성 시킨 것은 해피의 단 한 마디였죠.\n",
    "더 이상 시간을 줄 수 없었나 봐요.\n",
    "아이언맨 따까리 스파이더맨이니 더 이상 분량 요구는 괘씸한 거죠.\n",
    "차라리 예전 어두웠던 스파이더맨이\n",
    "가난했고, 삼촌의 죽음에 자책하고 슬퍼하던 그 친구가 그리워지는 영화였습니다.\n",
    "'''\n",
    "\n",
    "words = Okt().morphs(ktext)\n",
    "\n",
    "sw = ['.', ',', \"'\", '\\n', '이', '가', '을', '를']\n",
    "\n",
    "sw_removed = []\n",
    "for i in words:\n",
    "    if i.lower() not in sw:\n",
    "        sw_removed.append(i)\n",
    "\n",
    "count_list = Counter(sw_removed)\n",
    "\n",
    "my_wc = WordCloud(font_path='NanumGothic.ttf', background_color='white')\n",
    "plt.imshow(my_wc.generate_from_frequencies(count_list))\n",
    "plt.axis('off')\n",
    "plt.show()"
   ]
  }
 ]
}